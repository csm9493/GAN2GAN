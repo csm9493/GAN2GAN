{
 "cells": [
  {
   "cell_type": "code",
   "execution_count": 1,
   "metadata": {},
   "outputs": [],
   "source": [
    "# data_type = {avg1, avg2, avg4, avg8, avg16}\n",
    "data_type = 'avg16'"
   ]
  },
  {
   "cell_type": "code",
   "execution_count": 2,
   "metadata": {},
   "outputs": [],
   "source": [
    "directory_raw = './Real_FM_images/test/WF/' + data_type\n",
    "directory_gt = './Real_FM_images/test/WF/gt/'"
   ]
  },
  {
   "cell_type": "code",
   "execution_count": 3,
   "metadata": {},
   "outputs": [],
   "source": [
    "import os\n",
    "\n",
    "def search(dirname):\n",
    "    name_arr = []\n",
    "    filenames = os.listdir(dirname)\n",
    "    for filename in filenames:\n",
    "        full_filename = os.path.join(dirname, filename)\n",
    "        name_arr.append(full_filename)\n",
    "    return name_arr"
   ]
  },
  {
   "cell_type": "code",
   "execution_count": 4,
   "metadata": {},
   "outputs": [],
   "source": [
    "raw_filename = search(directory_raw)\n",
    "gt_filename = search(directory_gt)"
   ]
  },
  {
   "cell_type": "code",
   "execution_count": 5,
   "metadata": {},
   "outputs": [
    {
     "name": "stderr",
     "output_type": "stream",
     "text": [
      "/usr/local/lib/python3.6/dist-packages/ipykernel_launcher.py:7: DeprecationWarning: `imread` is deprecated!\n",
      "`imread` is deprecated in SciPy 1.0.0.\n",
      "Use ``matplotlib.pyplot.imread`` instead.\n",
      "  import sys\n"
     ]
    }
   ],
   "source": [
    "from scipy.ndimage import imread\n",
    "import numpy as np\n",
    "\n",
    "raw_arr = []\n",
    "\n",
    "for img_name in (raw_filename):\n",
    "    img = imread(img_name).reshape(1,512,512).tolist()\n",
    "    raw_arr += img"
   ]
  },
  {
   "cell_type": "code",
   "execution_count": 6,
   "metadata": {},
   "outputs": [
    {
     "name": "stderr",
     "output_type": "stream",
     "text": [
      "/usr/local/lib/python3.6/dist-packages/ipykernel_launcher.py:4: DeprecationWarning: `imread` is deprecated!\n",
      "`imread` is deprecated in SciPy 1.0.0.\n",
      "Use ``matplotlib.pyplot.imread`` instead.\n",
      "  after removing the cwd from sys.path.\n"
     ]
    }
   ],
   "source": [
    "gt_arr = []\n",
    "\n",
    "for img_name in (gt_filename):\n",
    "    img = imread(img_name).reshape(1,512,512).tolist()\n",
    "    gt_arr += img"
   ]
  },
  {
   "cell_type": "code",
   "execution_count": 7,
   "metadata": {},
   "outputs": [
    {
     "name": "stdout",
     "output_type": "stream",
     "text": [
      "12 12\n"
     ]
    }
   ],
   "source": [
    "print (len(raw_arr), len(gt_arr))"
   ]
  },
  {
   "cell_type": "code",
   "execution_count": 8,
   "metadata": {},
   "outputs": [],
   "source": [
    "# import matplotlib.pyplot as plt\n",
    "# plt.figure(figsize=[10,8])\n",
    "# plt.imshow(raw_arr[-1], cmap='gray')\n",
    "# plt.show()\n",
    "# plt.figure(figsize=[10,8])\n",
    "# plt.imshow(gt_arr[-1], cmap='gray')\n",
    "# plt.show()"
   ]
  },
  {
   "cell_type": "code",
   "execution_count": 9,
   "metadata": {},
   "outputs": [],
   "source": [
    "import h5py\n",
    "file_name = 'FMD_WF_'+data_type+'_test.hdf5'\n",
    "f = h5py.File(file_name, \"w\")\n",
    "f.create_dataset('clean_images', data=np.array(gt_arr, dtype=np.float32)/255.)\n",
    "f.create_dataset('noisy_images', data=np.array(raw_arr, dtype=np.float32)/255.)\n",
    "f.close()"
   ]
  },
  {
   "cell_type": "code",
   "execution_count": null,
   "metadata": {},
   "outputs": [],
   "source": []
  }
 ],
 "metadata": {
  "kernelspec": {
   "display_name": "Python 3",
   "language": "python",
   "name": "python3"
  },
  "language_info": {
   "codemirror_mode": {
    "name": "ipython",
    "version": 3
   },
   "file_extension": ".py",
   "mimetype": "text/x-python",
   "name": "python",
   "nbconvert_exporter": "python",
   "pygments_lexer": "ipython3",
   "version": "3.6.13"
  }
 },
 "nbformat": 4,
 "nbformat_minor": 2
}
