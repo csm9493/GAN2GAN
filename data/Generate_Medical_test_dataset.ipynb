{
 "cells": [
  {
   "cell_type": "code",
   "execution_count": 1,
   "metadata": {},
   "outputs": [],
   "source": [
    "# data_type = {Dose25, Dose50, Dose75, Dose100}\n",
    "data_type = 'Dose100'"
   ]
  },
  {
   "cell_type": "code",
   "execution_count": 2,
   "metadata": {},
   "outputs": [],
   "source": [
    "folder_dir = './Medical_images/'"
   ]
  },
  {
   "cell_type": "code",
   "execution_count": 3,
   "metadata": {},
   "outputs": [],
   "source": [
    "import os\n",
    "import h5py\n",
    "\n",
    "female_arr_tr = ['female_1.mat','female_3.mat','female_4.mat','female_5.mat',\n",
    "             'female_6.mat','female_7.mat','female_8.mat','female_9.mat','female_10.mat',\n",
    "             'female_11.mat','female_12.mat',]\n",
    "\n",
    "female_arr_te = ['female_13.mat','female_14.mat','female_15.mat',]\n",
    "\n",
    "male_arr_tr = ['male_1.mat','male_2.mat','male_3.mat','male_4.mat','male_5.mat',\n",
    "             'male_6.mat','male_7.mat','male_8.mat','male_9.mat','male_10.mat',\n",
    "             'male_11.mat',]\n",
    "\n",
    "male_arr_te = ['male_12.mat','male_13.mat']\n",
    "\n",
    "name_arr_tr = ['female_1.mat','female_3.mat','female_4.mat','female_5.mat',\n",
    "             'female_6.mat','female_7.mat','female_8.mat','female_9.mat','female_10.mat',\n",
    "             'female_11.mat','female_12.mat','male_1.mat','male_2.mat','male_3.mat','male_4.mat','male_5.mat',\n",
    "             'male_6.mat','male_7.mat','male_8.mat','male_9.mat','male_10.mat',\n",
    "             'male_11.mat',]\n",
    "\n",
    "name_arr_te = ['female_13.mat','female_14.mat','female_15.mat','male_12.mat','male_13.mat']"
   ]
  },
  {
   "cell_type": "code",
   "execution_count": 4,
   "metadata": {},
   "outputs": [],
   "source": [
    "clean_data_dir = folder_dir + 'Clean'\n",
    "te_clean_images = []\n",
    "\n",
    "for name in name_arr_te:\n",
    "    data_clean = h5py.File(clean_data_dir + '/' + name, 'r')['img_clean'][:]\n",
    "    te_clean_images.append(data_clean)"
   ]
  },
  {
   "cell_type": "code",
   "execution_count": 5,
   "metadata": {},
   "outputs": [
    {
     "name": "stdout",
     "output_type": "stream",
     "text": [
      "(300, 512, 512)\n"
     ]
    }
   ],
   "source": [
    "import numpy as np\n",
    "te_clean_images = np.array(te_clean_images, dtype = np.float32).reshape(5*60,512,512)\n",
    "print (te_clean_images.shape)"
   ]
  },
  {
   "cell_type": "code",
   "execution_count": 6,
   "metadata": {},
   "outputs": [],
   "source": [
    "noisy_data_dir = folder_dir + data_type\n",
    "te_noisy_images = []\n",
    "\n",
    "for name in name_arr_te:\n",
    "    data_clean = h5py.File(noisy_data_dir + '/' + name, 'r')['img'][:]\n",
    "    te_noisy_images.append(data_clean)"
   ]
  },
  {
   "cell_type": "code",
   "execution_count": 7,
   "metadata": {},
   "outputs": [
    {
     "name": "stdout",
     "output_type": "stream",
     "text": [
      "(300, 512, 512)\n"
     ]
    }
   ],
   "source": [
    "te_noisy_images = np.array(te_noisy_images, dtype = np.float32).reshape(5*60,512,512)\n",
    "print (te_noisy_images.shape)"
   ]
  },
  {
   "cell_type": "code",
   "execution_count": 8,
   "metadata": {},
   "outputs": [
    {
     "data": {
      "text/plain": [
       "<Figure size 1000x800 with 1 Axes>"
      ]
     },
     "metadata": {},
     "output_type": "display_data"
    },
    {
     "data": {
      "text/plain": [
       "<Figure size 1000x800 with 1 Axes>"
      ]
     },
     "metadata": {},
     "output_type": "display_data"
    }
   ],
   "source": [
    "import matplotlib.pyplot as plt\n",
    "plt.figure(figsize=[10,8])\n",
    "plt.imshow(te_clean_images[0], cmap='gray')\n",
    "plt.show()\n",
    "plt.figure(figsize=[10,8])\n",
    "plt.imshow(te_noisy_images[0], cmap='gray')\n",
    "plt.show()"
   ]
  },
  {
   "cell_type": "code",
   "execution_count": 9,
   "metadata": {},
   "outputs": [],
   "source": [
    "import h5py\n",
    "file_name = 'Medical_dataset_'+data_type+'_test.hdf5'\n",
    "f = h5py.File(file_name, \"w\")\n",
    "f.create_dataset('clean_images', data=te_clean_images)\n",
    "f.create_dataset('noisy_images', data=te_noisy_images)\n",
    "f.close()"
   ]
  },
  {
   "cell_type": "code",
   "execution_count": null,
   "metadata": {},
   "outputs": [],
   "source": []
  }
 ],
 "metadata": {
  "kernelspec": {
   "display_name": "Python 3",
   "language": "python",
   "name": "python3"
  },
  "language_info": {
   "codemirror_mode": {
    "name": "ipython",
    "version": 3
   },
   "file_extension": ".py",
   "mimetype": "text/x-python",
   "name": "python",
   "nbconvert_exporter": "python",
   "pygments_lexer": "ipython3",
   "version": "3.6.13"
  }
 },
 "nbformat": 4,
 "nbformat_minor": 2
}
