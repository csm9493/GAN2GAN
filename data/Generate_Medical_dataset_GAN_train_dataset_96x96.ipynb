{
 "cells": [
  {
   "cell_type": "code",
   "execution_count": 1,
   "metadata": {},
   "outputs": [],
   "source": [
    "# data_type = {'Dose25', 'Dose50', 'Dose75','Dose100', }\n",
    "data_type = 'Dose25'"
   ]
  },
  {
   "cell_type": "code",
   "execution_count": 2,
   "metadata": {},
   "outputs": [],
   "source": [
    "folder_dir = './Medical_images/'"
   ]
  },
  {
   "cell_type": "code",
   "execution_count": 3,
   "metadata": {},
   "outputs": [],
   "source": [
    "import os\n",
    "import h5py\n",
    "import numpy as np\n",
    "\n",
    "female_arr_tr = ['female_1.mat','female_3.mat','female_4.mat','female_5.mat',\n",
    "             'female_6.mat','female_7.mat','female_8.mat','female_9.mat','female_10.mat',\n",
    "             'female_11.mat','female_12.mat',]\n",
    "\n",
    "female_arr_te = ['female_13.mat','female_14.mat','female_15.mat',]\n",
    "\n",
    "male_arr_tr = ['male_1.mat','male_2.mat','male_3.mat','male_4.mat','male_5.mat',\n",
    "             'male_6.mat','male_7.mat','male_8.mat','male_9.mat','male_10.mat',\n",
    "             'male_11.mat',]\n",
    "\n",
    "male_arr_te = ['male_12.mat','male_13.mat']\n",
    "\n",
    "name_arr_tr = ['female_1.mat','female_3.mat','female_4.mat','female_5.mat',\n",
    "             'female_6.mat','female_7.mat','female_8.mat','female_9.mat','female_10.mat',\n",
    "             'female_11.mat','female_12.mat','male_1.mat','male_2.mat','male_3.mat','male_4.mat','male_5.mat',\n",
    "             'male_6.mat','male_7.mat','male_8.mat','male_9.mat','male_10.mat',\n",
    "             'male_11.mat',]\n",
    "\n",
    "name_arr_te = ['female_13.mat','female_14.mat','female_15.mat','male_12.mat','male_13.mat']"
   ]
  },
  {
   "cell_type": "markdown",
   "metadata": {},
   "source": [
    "# 1. Generate noise (smooth) patches"
   ]
  },
  {
   "cell_type": "code",
   "execution_count": 4,
   "metadata": {},
   "outputs": [],
   "source": [
    "global_size = 96\n",
    "global_stride = 24\n",
    "max_num_smooth_patches = 40000\n",
    "_lambda = 0.15"
   ]
  },
  {
   "cell_type": "code",
   "execution_count": 5,
   "metadata": {},
   "outputs": [],
   "source": [
    "import pywt\n",
    "def smooth_area_detector(patch, _lambda=0.42):\n",
    "    \n",
    "    cA, (cH, cV, cD) = pywt.dwt2(patch,'haar')\n",
    "    std_cA = np.std(cA)\n",
    "    std_cH = np.std(cH)\n",
    "    std_cV = np.std(cV)\n",
    "    std_cD = np.std(cD)\n",
    "    mean_std = (std_cA + std_cH + std_cV + std_cD) / 4.\n",
    "\n",
    "    std_difference = (abs(std_cA-mean_std) + abs(std_cH-mean_std) + abs(std_cV-mean_std)+ abs(std_cD-mean_std))/4.\n",
    "\n",
    "    if std_difference <= mean_std*_lambda:\n",
    "        return True\n",
    "    else:\n",
    "        return False"
   ]
  },
  {
   "cell_type": "code",
   "execution_count": 6,
   "metadata": {},
   "outputs": [],
   "source": [
    "def crop_smooth_patch(img, size, stride):\n",
    "    \n",
    "    cropped_smooth_patch_arr = []\n",
    "\n",
    "    img_size_x = img.shape[0]\n",
    "    img_size_y = img.shape[1]\n",
    "    cropped_patch_size = size\n",
    "    \n",
    "    for x_axis in range(0,img_size_x,stride):\n",
    "        for y_axis in range(0,img_size_y,stride):\n",
    "\n",
    "            x_tmp_range = x_axis+cropped_patch_size\n",
    "            y_tmp_range = y_axis+cropped_patch_size\n",
    "\n",
    "            if x_tmp_range < img_size_x and y_tmp_range < img_size_y:\n",
    "                cropped_patch = img[x_axis:x_tmp_range,y_axis:y_tmp_range]\n",
    "                if smooth_area_detector(cropped_patch, _lambda = _lambda):\n",
    "                    cropped_smooth_patch_arr.append(cropped_patch)\n",
    "                        \n",
    "    return cropped_smooth_patch_arr"
   ]
  },
  {
   "cell_type": "code",
   "execution_count": 7,
   "metadata": {},
   "outputs": [],
   "source": [
    "noisy_data_dir = folder_dir + data_type\n",
    "tr_noisy_images = []\n",
    "\n",
    "for name in name_arr_tr:\n",
    "    data_clean = h5py.File(noisy_data_dir + '/' + name, 'r')['img'][:]\n",
    "    tr_noisy_images.append(data_clean)"
   ]
  },
  {
   "cell_type": "code",
   "execution_count": 8,
   "metadata": {},
   "outputs": [
    {
     "name": "stdout",
     "output_type": "stream",
     "text": [
      "(1320, 512, 512)\n"
     ]
    }
   ],
   "source": [
    "noisy = np.array(tr_noisy_images, dtype = np.float32).reshape(22*60,512,512)\n",
    "print (noisy.shape)"
   ]
  },
  {
   "cell_type": "code",
   "execution_count": 9,
   "metadata": {},
   "outputs": [
    {
     "name": "stdout",
     "output_type": "stream",
     "text": [
      "over maximum number\n"
     ]
    }
   ],
   "source": [
    "from scipy.ndimage import imread\n",
    "\n",
    "smooth_patches = []\n",
    "\n",
    "for img_idx in range(noisy.shape[0]):\n",
    "    img = noisy[img_idx]\n",
    "    smooth_patches +=crop_smooth_patch(img, global_size, global_stride)\n",
    "    if len(smooth_patches) >= max_num_smooth_patches:\n",
    "        print ('over maximum number')\n",
    "        break"
   ]
  },
  {
   "cell_type": "code",
   "execution_count": 10,
   "metadata": {},
   "outputs": [
    {
     "name": "stdout",
     "output_type": "stream",
     "text": [
      "number of smooth patches :  40026\n"
     ]
    }
   ],
   "source": [
    "print ('number of smooth patches : ', len(smooth_patches))"
   ]
  },
  {
   "cell_type": "code",
   "execution_count": 11,
   "metadata": {},
   "outputs": [
    {
     "data": {
      "text/plain": [
       "<Figure size 1000x800 with 1 Axes>"
      ]
     },
     "metadata": {},
     "output_type": "display_data"
    }
   ],
   "source": [
    "import matplotlib.pyplot as plt\n",
    "idx_ = -1\n",
    "plt.figure(figsize=[10,8])\n",
    "plt.imshow(smooth_patches[idx_] - np.mean(smooth_patches[idx_]), cmap='gray')\n",
    "plt.show()"
   ]
  },
  {
   "cell_type": "code",
   "execution_count": 12,
   "metadata": {},
   "outputs": [],
   "source": [
    "file_name = 'GAN_train_96x96_Medical_dataset_'+str(data_type)+'_noise_patches.hdf5'    \n",
    "# file_name = 'G2G_dataset_96x96_RealFM_WF_n_i_lambda42.hdf5'    \n",
    "f = h5py.File(file_name, \"w\")\n",
    "f.create_dataset('noise_patches', data=np.array(smooth_patches[:max_num_smooth_patches], dtype=np.float32))\n",
    "f.close()"
   ]
  },
  {
   "cell_type": "markdown",
   "metadata": {},
   "source": [
    "# 2. Generate noisy/clean patches"
   ]
  },
  {
   "cell_type": "code",
   "execution_count": 13,
   "metadata": {},
   "outputs": [],
   "source": [
    "clean_data_dir = folder_dir + 'Clean'\n",
    "tr_clean_images = []\n",
    "\n",
    "for name in name_arr_tr:\n",
    "    data_clean = h5py.File(clean_data_dir + '/' + name, 'r')['img_clean'][:]\n",
    "    tr_clean_images.append(data_clean)"
   ]
  },
  {
   "cell_type": "code",
   "execution_count": 14,
   "metadata": {},
   "outputs": [
    {
     "name": "stdout",
     "output_type": "stream",
     "text": [
      "(1320, 512, 512)\n"
     ]
    }
   ],
   "source": [
    "clean = np.array(tr_clean_images, dtype = np.float32).reshape(22*60,512,512)\n",
    "print (clean.shape)"
   ]
  },
  {
   "cell_type": "code",
   "execution_count": 15,
   "metadata": {},
   "outputs": [
    {
     "name": "stdout",
     "output_type": "stream",
     "text": [
      "max_num_patches :  40026\n",
      "patches_per_image :  31\n"
     ]
    }
   ],
   "source": [
    "max_num_patches = len(smooth_patches)\n",
    "patches_per_image = max_num_patches // (clean.shape[0]) + 1\n",
    "\n",
    "print ('max_num_patches : ', max_num_patches)\n",
    "print ('patches_per_image : ', patches_per_image)"
   ]
  },
  {
   "cell_type": "code",
   "execution_count": 16,
   "metadata": {},
   "outputs": [],
   "source": [
    "import random\n",
    "def crop_random_patch(clean, noisy, size, num_patches):\n",
    "    \n",
    "    rand = random.randrange(1,100000)\n",
    "    \n",
    "    clean_patches = image.extract_patches_2d(clean, (size, size), num_patches, rand)\n",
    "    noisy_patches = image.extract_patches_2d(noisy, (size, size), num_patches, rand)\n",
    "    \n",
    "    clean_img = clean_patches.copy()\n",
    "    noisy_img = noisy_patches.copy()\n",
    "    \n",
    "    return clean_img, noisy_img"
   ]
  },
  {
   "cell_type": "code",
   "execution_count": 17,
   "metadata": {},
   "outputs": [
    {
     "name": "stdout",
     "output_type": "stream",
     "text": [
      "len of zi_patch, xi_patch :  40052\n"
     ]
    }
   ],
   "source": [
    "from sklearn.feature_extraction import image\n",
    "from scipy.ndimage import imread\n",
    "\n",
    "zi_patch = np.zeros((patches_per_image * (clean.shape[0]),global_size,global_size), dtype = np.float32)\n",
    "xi_patch = np.zeros((patches_per_image * (noisy.shape[0]),global_size,global_size), dtype = np.float32)\n",
    "\n",
    "patch_idx = 0\n",
    "\n",
    "for img_idx in range(noisy.shape[0]):\n",
    "    \n",
    "    clean_img = clean[img_idx]\n",
    "    noisy_img = noisy[img_idx]\n",
    "    \n",
    "    xi, zi = crop_random_patch(clean_img, noisy_img, global_size,patches_per_image)\n",
    "    \n",
    "    zi_patch[patch_idx:patch_idx+xi.shape[0]] = zi\n",
    "    xi_patch[patch_idx:patch_idx+xi.shape[0]] = xi\n",
    "\n",
    "    patch_idx += xi.shape[0]\n",
    "    \n",
    "    if patch_idx >= max_num_patches:\n",
    "        print ('len of zi_patch, xi_patch : ', patch_idx)\n",
    "        break"
   ]
  },
  {
   "cell_type": "code",
   "execution_count": 18,
   "metadata": {},
   "outputs": [
    {
     "data": {
      "image/png": "[encoded data removed]",
      "text/plain": [
       "<Figure size 720x576 with 1 Axes>"
      ]
     },
     "metadata": {},
     "output_type": "display_data"
    }
   ],
   "source": [
    "import matplotlib.pyplot as plt\n",
    "plt.figure(figsize=[10,8])\n",
    "plt.imshow(zi_patch[max_num_patches-1], cmap='gray')\n",
    "plt.show()"
   ]
  },
  {
   "cell_type": "code",
   "execution_count": 19,
   "metadata": {},
   "outputs": [],
   "source": [
    "import h5py\n",
    "file_name = 'GAN_train_96x96_Medical_dataset_'+str(data_type)+'_noisy_clean_patches.hdf5'\n",
    "# file_name = 'G2G_dataset_96x96_RealFM_WF_z_i_lambda42.hdf5'\n",
    "f = h5py.File(file_name, \"w\")\n",
    "f.create_dataset('clean_patches', data=np.array(xi_patch[:max_num_smooth_patches]))\n",
    "f.create_dataset('noisy_patches', data=np.array(zi_patch[:max_num_smooth_patches]))\n",
    "f.close()"
   ]
  }
 ],
 "metadata": {
  "kernelspec": {
   "display_name": "Python 3",
   "language": "python",
   "name": "python3"
  },
  "language_info": {
   "codemirror_mode": {
    "name": "ipython",
    "version": 3
   },
   "file_extension": ".py",
   "mimetype": "text/x-python",
   "name": "python",
   "nbconvert_exporter": "python",
   "pygments_lexer": "ipython3",
   "version": "3.6.13"
  }
 },
 "nbformat": 4,
 "nbformat_minor": 2
}
