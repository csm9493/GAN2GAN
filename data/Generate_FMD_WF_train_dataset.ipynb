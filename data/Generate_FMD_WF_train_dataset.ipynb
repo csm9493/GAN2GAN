{
 "cells": [
  {
   "cell_type": "code",
   "execution_count": 1,
   "metadata": {},
   "outputs": [],
   "source": [
    "# data_type = {avg1, avg2, avg4, avg8, avg16}\n",
    "data_type = 'avg1'"
   ]
  },
  {
   "cell_type": "code",
   "execution_count": 2,
   "metadata": {},
   "outputs": [],
   "source": [
    "directory_raw = './Real_FM_images/train/WF/' + data_type\n",
    "directory_gt = './Real_FM_images/train/WF/gt/'"
   ]
  },
  {
   "cell_type": "code",
   "execution_count": 3,
   "metadata": {},
   "outputs": [],
   "source": [
    "import os\n",
    "\n",
    "def search(dirname):\n",
    "    name_arr = []\n",
    "    filenames = os.listdir(dirname)\n",
    "    for filename in filenames:\n",
    "        full_filename = os.path.join(dirname, filename)\n",
    "        name_arr.append(full_filename)\n",
    "    return name_arr"
   ]
  },
  {
   "cell_type": "code",
   "execution_count": 4,
   "metadata": {},
   "outputs": [],
   "source": [
    "raw_filename = search(directory_raw)\n",
    "gt_filename = search(directory_gt)"
   ]
  },
  {
   "cell_type": "code",
   "execution_count": 5,
   "metadata": {},
   "outputs": [
    {
     "name": "stderr",
     "output_type": "stream",
     "text": [
      "/usr/local/lib/python3.6/dist-packages/ipykernel_launcher.py:14: DeprecationWarning: `imread` is deprecated!\n",
      "`imread` is deprecated in SciPy 1.0.0.\n",
      "Use ``matplotlib.pyplot.imread`` instead.\n",
      "  \n"
     ]
    }
   ],
   "source": [
    "from scipy.ndimage import imread\n",
    "import numpy as np\n",
    "\n",
    "raw_arr = []\n",
    "\n",
    "for dir_name in (raw_filename):\n",
    "    img_dir_names = os.listdir(dir_name)\n",
    "    for img_dir_name in img_dir_names:\n",
    "        if img_dir_name != '19': # except for FoV19 (which is test dataset)\n",
    "            img_names = os.listdir(dir_name + '/' + img_dir_name)\n",
    "            for img_name in img_names:\n",
    "                if 'PND' in img_name:\n",
    "                    img_full_name = dir_name + '/' + img_dir_name + '/' + img_name\n",
    "                    img = imread(img_full_name).reshape(1,512,512).tolist()\n",
    "                    raw_arr += img"
   ]
  },
  {
   "cell_type": "code",
   "execution_count": 6,
   "metadata": {},
   "outputs": [
    {
     "name": "stderr",
     "output_type": "stream",
     "text": [
      "/usr/local/lib/python3.6/dist-packages/ipykernel_launcher.py:11: DeprecationWarning: `imread` is deprecated!\n",
      "`imread` is deprecated in SciPy 1.0.0.\n",
      "Use ``matplotlib.pyplot.imread`` instead.\n",
      "  # This is added back by InteractiveShellApp.init_path()\n"
     ]
    }
   ],
   "source": [
    "gt_arr = []\n",
    "\n",
    "for dir_name in (gt_filename):\n",
    "    img_dir_names = os.listdir(dir_name)\n",
    "    for img_dir_name in img_dir_names:\n",
    "        if img_dir_name != '19': # except for FoV19 (which is test dataset)\n",
    "            img_names = os.listdir(dir_name + '/' + img_dir_name)\n",
    "            for img_name in img_names:\n",
    "                if 'avg' in img_name:\n",
    "                    img_full_name = dir_name + '/' + img_dir_name + '/' + img_name\n",
    "                    img = imread(img_full_name).reshape(1,512,512).tolist()\n",
    "                    gt_arr += img"
   ]
  },
  {
   "cell_type": "code",
   "execution_count": 7,
   "metadata": {},
   "outputs": [
    {
     "name": "stdout",
     "output_type": "stream",
     "text": [
      "2850 57\n"
     ]
    }
   ],
   "source": [
    "print (len(raw_arr), len(gt_arr))"
   ]
  },
  {
   "cell_type": "code",
   "execution_count": 8,
   "metadata": {},
   "outputs": [
    {
     "data": {
      "text/plain": [
       "<Figure size 1000x800 with 1 Axes>"
      ]
     },
     "metadata": {},
     "output_type": "display_data"
    },
    {
     "data": {
      "text/plain": [
       "<Figure size 1000x800 with 1 Axes>"
      ]
     },
     "metadata": {},
     "output_type": "display_data"
    }
   ],
   "source": [
    "# import matplotlib.pyplot as plt\n",
    "# plt.figure(figsize=[10,8])\n",
    "# plt.imshow(raw_arr[-1], cmap='gray')\n",
    "# plt.show()\n",
    "# plt.figure(figsize=[10,8])\n",
    "# plt.imshow(gt_arr[-1], cmap='gray')\n",
    "# plt.show()"
   ]
  },
  {
   "cell_type": "code",
   "execution_count": 9,
   "metadata": {},
   "outputs": [],
   "source": [
    "tr_data_raw = np.zeros((len(raw_arr),512,512), dtype=np.float32)\n",
    "tr_data_gt = np.zeros((len(raw_arr),512,512), dtype=np.float32)\n",
    "\n",
    "for i in range (len(raw_arr)):\n",
    "    tr_data_raw[i] = raw_arr[i]\n",
    "    gt_idx = i // 50\n",
    "    tr_data_gt[i] = gt_arr[gt_idx]"
   ]
  },
  {
   "cell_type": "code",
   "execution_count": 15,
   "metadata": {},
   "outputs": [],
   "source": [
    "import h5py\n",
    "file_name = 'FMD_WF_'+data_type+'_train.hdf5'\n",
    "f = h5py.File(file_name, \"w\")\n",
    "f.create_dataset('clean_images', data=tr_data_gt / 255.)\n",
    "f.create_dataset('noisy_images', data=tr_data_raw / 255.)\n",
    "f.close()"
   ]
  },
  {
   "cell_type": "code",
   "execution_count": null,
   "metadata": {},
   "outputs": [],
   "source": []
  }
 ],
 "metadata": {
  "kernelspec": {
   "display_name": "Python 3",
   "language": "python",
   "name": "python3"
  },
  "language_info": {
   "codemirror_mode": {
    "name": "ipython",
    "version": 3
   },
   "file_extension": ".py",
   "mimetype": "text/x-python",
   "name": "python",
   "nbconvert_exporter": "python",
   "pygments_lexer": "ipython3",
   "version": "3.6.13"
  }
 },
 "nbformat": 4,
 "nbformat_minor": 2
}
